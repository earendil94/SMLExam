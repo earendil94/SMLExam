{
  "nbformat": 4,
  "nbformat_minor": 0,
  "metadata": {
    "colab": {
      "name": "StillExploringSMLExam.ipynb",
      "provenance": [],
      "collapsed_sections": [],
      "mount_file_id": "1IYWvmCYZV9rtDGGyAz6yn01gQ1y9ngLE",
      "authorship_tag": "ABX9TyOR7J9wEyeMbK7f1HMuo54P",
      "include_colab_link": true
    },
    "kernelspec": {
      "name": "python3",
      "display_name": "Python 3"
    }
  },
  "cells": [
    {
      "cell_type": "markdown",
      "metadata": {
        "id": "view-in-github",
        "colab_type": "text"
      },
      "source": [
        "<a href=\"https://colab.research.google.com/github/earendil94/SMLExam/blob/preferivolescimmie/StillExploringSMLExam.ipynb\" target=\"_parent\"><img src=\"https://colab.research.google.com/assets/colab-badge.svg\" alt=\"Open In Colab\"/></a>"
      ]
    },
    {
      "cell_type": "code",
      "metadata": {
        "id": "hQFBh71Q8ytX",
        "colab_type": "code",
        "colab": {}
      },
      "source": [
        "#Installing things in colab\n",
        "!pip install spacy\n",
        "!python -m spacy download en"
      ],
      "execution_count": 0,
      "outputs": []
    },
    {
      "cell_type": "code",
      "metadata": {
        "id": "1suQNxtqGCD9",
        "colab_type": "code",
        "colab": {}
      },
      "source": [
        "#Import\n",
        "\n",
        "import torch\n",
        "import pandas as pd\n",
        "from spacy.lang.en import English\n",
        "import en_core_web_sm"
      ],
      "execution_count": 0,
      "outputs": []
    },
    {
      "cell_type": "code",
      "metadata": {
        "id": "Kdpg4JJ4KtAS",
        "colab_type": "code",
        "colab": {}
      },
      "source": [
        "#Some utils: we'd better turn them into a package later on\n",
        "#Still need to understand whether we need more of this or not\n",
        "\n",
        "class vocab:\n",
        "  def __init__(self):\n",
        "    self.start_word = \"<Start>\"\n",
        "    self.end_word = \"<End>\""
      ],
      "execution_count": 0,
      "outputs": []
    },
    {
      "cell_type": "code",
      "metadata": {
        "id": "Er7p5w3-uVJo",
        "colab_type": "code",
        "outputId": "809088bb-0684-4af3-b933-deac7e2f2420",
        "colab": {
          "base_uri": "https://localhost:8080/",
          "height": 35
        }
      },
      "source": [
        "from google.colab import drive\n",
        "drive.mount('/content/drive')"
      ],
      "execution_count": 0,
      "outputs": [
        {
          "output_type": "stream",
          "text": [
            "Drive already mounted at /content/drive; to attempt to forcibly remount, call drive.mount(\"/content/drive\", force_remount=True).\n"
          ],
          "name": "stdout"
        }
      ]
    },
    {
      "cell_type": "code",
      "metadata": {
        "id": "_3zcxf7ffBgY",
        "colab_type": "code",
        "colab": {}
      },
      "source": [
        "#Loading captions file and creating the array\n",
        "df = pd.read_csv(\"/content/drive/My Drive/SML_Project/Chunk1/results.csv\", sep=\"|\")\n",
        "captions_array = df[' comment']\n",
        "captions_array.fillna(\"\", inplace=True)\n",
        "captions_array = df[' comment'].values\n",
        "captions_array = captions_array[:200]\n",
        "captions = []\n",
        "\n",
        "for i in captions_array:\n",
        "  captions.append(i)\n"
      ],
      "execution_count": 0,
      "outputs": []
    },
    {
      "cell_type": "code",
      "metadata": {
        "id": "W9Uc2OFqGAAO",
        "colab_type": "code",
        "outputId": "9b8a985a-ec88-42ba-803b-eac5a69c143f",
        "cellView": "both",
        "colab": {
          "base_uri": "https://localhost:8080/",
          "height": 35
        }
      },
      "source": [
        "#Tokenization\n",
        "\n",
        "nlp = English()\n",
        "tokens = []\n",
        "voc = vocab()\n",
        "\n",
        "tokens.append(voc.start_word)\n",
        "tokens.append(voc.end_word)\n",
        "\n",
        "for sentence in captions:\n",
        "  text = nlp(sentence)\n",
        "  for tk in text:\n",
        "    tokens.append(tk.text)\n",
        "\n",
        "word_list = sorted(set(tokens))\n",
        "word_index = {word: i for (i, word) in enumerate(word_list)}"
      ],
      "execution_count": 48,
      "outputs": [
        {
          "output_type": "stream",
          "text": [
            "0\n"
          ],
          "name": "stdout"
        }
      ]
    },
    {
      "cell_type": "code",
      "metadata": {
        "id": "B4gjHMfwkS2z",
        "colab_type": "code",
        "colab": {
          "base_uri": "https://localhost:8080/",
          "height": 384
        },
        "outputId": "f4fdcdfe-6b70-4ba2-c9c8-ddf501063f3f"
      },
      "source": [
        "nlp = en_core_web_sm.load()\n",
        "dict_vect = [] #96 is the \"hardcoded\" number of features in our method\n",
        "\n",
        "for i in word_index:\n",
        "  dict_vect.append(nlp(i))\n",
        "\n",
        "dict_vect[0].vector #This gives you a vectorized representation for the first word in the dictionary and so onù\n",
        "\n",
        "#TODO: actually consider torch.nn.Embedding. Let's dive from there tomorrow"
      ],
      "execution_count": 58,
      "outputs": [
        {
          "output_type": "execute_result",
          "data": {
            "text/plain": [
              "array([-0.57979214, -3.79362   ,  0.43898803,  0.39932922,  2.5942783 ,\n",
              "        0.7911352 ,  1.8325382 ,  0.6145735 ,  2.069081  , -1.6357871 ,\n",
              "        1.8418407 , -1.931824  ,  0.31030884, -1.8993232 , -2.5146317 ,\n",
              "       -2.6168365 ,  1.1407807 ,  0.15145421,  2.1060858 , -3.020893  ,\n",
              "        1.0758475 , -0.94775116, -0.23068035,  0.53487515,  0.84724617,\n",
              "       -2.334578  , -1.1432828 , -3.0751853 , -1.1499038 , -3.7937436 ,\n",
              "        0.81765836,  0.16231696,  0.03129923,  3.4633355 ,  1.8972493 ,\n",
              "       -0.03806448,  0.4046663 , -1.8538045 ,  0.7260971 , -0.20395494,\n",
              "        0.8705518 ,  0.6901697 ,  3.1517584 , -4.7466288 , -0.94685835,\n",
              "        1.2115942 ,  1.630587  , -0.63185906, -0.82155377,  0.40815216,\n",
              "       -1.1636571 ,  0.21555604, -2.0817833 , -0.23012584, -3.6076035 ,\n",
              "        0.2702778 , -1.5695524 , -0.76731193,  3.9210668 , -2.5523276 ,\n",
              "       -0.26841676,  1.6514616 ,  0.99095106, -0.72901374,  1.1189346 ,\n",
              "       -2.3624816 ,  0.40067315, -1.7901186 , -0.86310583,  0.18317974,\n",
              "        1.882915  ,  1.1408747 ,  1.1447047 ,  1.4773415 ,  0.14321661,\n",
              "       -1.3263195 ,  2.7864888 ,  2.6151423 , -1.6904008 ,  4.322074  ,\n",
              "        0.46919632, -2.136642  ,  4.3800735 , -1.9517639 ,  4.371858  ,\n",
              "        8.24571   , -2.2897992 ,  0.8302578 ,  2.8611307 , -2.0907369 ,\n",
              "        0.76080537, -1.693562  ,  1.7985196 , -1.118951  , -1.2724962 ,\n",
              "       -1.7714643 ], dtype=float32)"
            ]
          },
          "metadata": {
            "tags": []
          },
          "execution_count": 58
        }
      ]
    },
    {
      "cell_type": "code",
      "metadata": {
        "id": "cQqUvSDyHYp6",
        "colab_type": "code",
        "colab": {}
      },
      "source": [
        ""
      ],
      "execution_count": 0,
      "outputs": []
    }
  ]
}